{
 "cells": [
  {
   "cell_type": "code",
   "execution_count": 10,
   "metadata": {},
   "outputs": [],
   "source": [
    "#Activty 11\n",
    "#Dan Clayton\n"
   ]
  },
  {
   "cell_type": "code",
   "execution_count": 11,
   "metadata": {},
   "outputs": [],
   "source": [
    "#Import some libraries\n",
    "import pandas as pd\n",
    "import sqlite3 as sq"
   ]
  },
  {
   "cell_type": "code",
   "execution_count": 15,
   "metadata": {},
   "outputs": [
    {
     "name": "stdout",
     "output_type": "stream",
     "text": [
      "Connection is good\n"
     ]
    }
   ],
   "source": [
    "#1) Connect to pets DB and check that connection is good\n",
    "conn = sq.connect(\"petsdb\")\n",
    "\n",
    "with conn:\n",
    "    cursor = conn.cursor()\n",
    "    #print(cursor)\n",
    "    if str(cursor) == '':\n",
    "        print('Connection problem')\n",
    "    else:\n",
    "        print('Connection is good')"
   ]
  },
  {
   "cell_type": "code",
   "execution_count": 89,
   "metadata": {},
   "outputs": [
    {
     "name": "stdout",
     "output_type": "stream",
     "text": [
      "People:\n",
      "\n",
      "id\n",
      "first_name\n",
      "last_name\n",
      "age\n",
      "city\n",
      "zip_code\n",
      "Pets:\n",
      "\n",
      "owner_id\n",
      "pet_name\n",
      "pet_type\n",
      "treatment_done\n"
     ]
    }
   ],
   "source": [
    "#Show all of the column names--we will need to know these later\n",
    "sql = 'SELECT distinct * from persons;'\n",
    "rows = cursor.execute(sql)\n",
    "\n",
    "#Print the column names for later use\n",
    "print('People:\\n')\n",
    "for row in rows.description:\n",
    "    print(row[0])\n",
    "\n",
    "sql = 'SELECT distinct * from pets;'\n",
    "rows = cursor.execute(sql)\n",
    "\n",
    "#Print the column names for later use\n",
    "print('Pets:\\n')\n",
    "for row in rows.description:\n",
    "    print(row[0])\n"
   ]
  },
  {
   "cell_type": "code",
   "execution_count": 167,
   "metadata": {},
   "outputs": [
    {
     "name": "stdout",
     "output_type": "stream",
     "text": [
      "Age: 5 Count: 2\n",
      "Age: 6 Count: 1\n",
      "Age: 7 Count: 1\n",
      "Age: 8 Count: 3\n",
      "Age: 9 Count: 1\n",
      "Age: 11 Count: 2\n",
      "Age: 12 Count: 3\n",
      "Age: 13 Count: 1\n",
      "Age: 14 Count: 4\n",
      "Age: 16 Count: 2\n",
      "Age: 17 Count: 2\n",
      "Age: 18 Count: 3\n",
      "Age: 19 Count: 1\n",
      "Age: 22 Count: 3\n",
      "Age: 23 Count: 2\n",
      "Age: 24 Count: 3\n",
      "Age: 25 Count: 2\n",
      "Age: 27 Count: 1\n",
      "Age: 30 Count: 1\n",
      "Age: 31 Count: 3\n",
      "Age: 32 Count: 1\n",
      "Age: 33 Count: 1\n",
      "Age: 34 Count: 2\n",
      "Age: 35 Count: 3\n",
      "Age: 36 Count: 3\n",
      "Age: 37 Count: 1\n",
      "Age: 39 Count: 2\n",
      "Age: 40 Count: 1\n",
      "Age: 42 Count: 1\n",
      "Age: 44 Count: 2\n",
      "Age: 48 Count: 2\n",
      "Age: 49 Count: 1\n",
      "Age: 50 Count: 1\n",
      "Age: 51 Count: 2\n",
      "Age: 52 Count: 2\n",
      "Age: 53 Count: 2\n",
      "Age: 54 Count: 2\n",
      "Age: 58 Count: 1\n",
      "Age: 59 Count: 1\n",
      "Age: 60 Count: 1\n",
      "Age: 61 Count: 1\n",
      "Age: 62 Count: 2\n",
      "Age: 63 Count: 1\n",
      "Age: 65 Count: 2\n",
      "Age: 66 Count: 2\n",
      "Age: 67 Count: 1\n",
      "Age: 68 Count: 3\n",
      "Age: 69 Count: 1\n",
      "Age: 70 Count: 1\n",
      "Age: 71 Count: 4\n",
      "Age: 72 Count: 1\n",
      "Age: 73 Count: 5\n",
      "Age: 74 Count: 3\n"
     ]
    }
   ],
   "source": [
    "#2) Find the different age groups in the persons database\n",
    "\n",
    "sql = 'SELECT distinct age, count(*) FROM persons GROUP BY age order by 1;'\n",
    "rows = cursor.execute(sql)\n",
    "\n",
    "#Print the ages and their respective counts, ordered from lowest to highest occurance\n",
    "for row in rows:\n",
    "    print('Age:', row[0],'Count:', row[1])"
   ]
  },
  {
   "cell_type": "code",
   "execution_count": 68,
   "metadata": {},
   "outputs": [
    {
     "name": "stdout",
     "output_type": "stream",
     "text": [
      "Age: Count\n",
      "\n",
      "73 : 5\n"
     ]
    }
   ],
   "source": [
    "#3) Find the age group that has the maximum number of people\n",
    "sql = 'SELECT distinct age, count(*) FROM persons GROUP BY age order by 2;'\n",
    "rows = cursor.execute(sql)\n",
    "\n",
    "#Print the last of the sorted ages along with its count--this is the largest count (thus maximum number of people)\n",
    "print(\"Age: Count\\n\")\n",
    "print(row[-2], \":\", row[-1])\n"
   ]
  },
  {
   "cell_type": "code",
   "execution_count": 133,
   "metadata": {},
   "outputs": [
    {
     "name": "stdout",
     "output_type": "stream",
     "text": [
      "People with no last name:  60\n"
     ]
    }
   ],
   "source": [
    "#4) Find the people who do not have a last name\n",
    "\n",
    "sql = \"select count(*) from (SELECT first_name FROM persons where last_name is null)\"\n",
    "#sql = \"SELECT first_name, last_name FROM persons;\"\n",
    "rows = cursor.execute(sql)\n",
    "\n",
    "#Print the first names of the people with no last names\n",
    "for row in rows:\n",
    "    print('People with no last name: ', str(row).split(',')[0][1:])"
   ]
  },
  {
   "cell_type": "code",
   "execution_count": 132,
   "metadata": {},
   "outputs": [
    {
     "name": "stdout",
     "output_type": "stream",
     "text": [
      "People with multiple pets:  43\n"
     ]
    }
   ],
   "source": [
    "#5) Find out how many people have more than one pet\n",
    "\n",
    "#sql = 'select count(*) from (SELECT distinct owner_id FROM pets group by owner_id having count(*));'\n",
    "sql = \"SELECT count(*) FROM (SELECT count(owner_id) FROM pets GROUP BY owner_id HAVING count(owner_id) >1)\"\n",
    "\n",
    "rows = cursor.execute(sql)\n",
    "\n",
    "#Print the result\n",
    "for row in rows:\n",
    "    #print(row)\n",
    "    print('People with multiple pets: ', str(row).split(',')[0][1:])"
   ]
  },
  {
   "cell_type": "code",
   "execution_count": 140,
   "metadata": {},
   "outputs": [
    {
     "name": "stdout",
     "output_type": "stream",
     "text": [
      "Pets that received treatments:  36\n"
     ]
    }
   ],
   "source": [
    "#6) Find out how many pets have received treatment\n",
    "sql = \"select count(*) from (select treatment_done from pets where treatment_done > 0)\"\n",
    "\n",
    "rows = cursor.execute(sql)\n",
    "\n",
    "#Print the result\n",
    "for row in rows:\n",
    "    #print(row)\n",
    "    print('Pets that received treatments: ', str(row).split(',')[0][1:])"
   ]
  },
  {
   "cell_type": "code",
   "execution_count": 144,
   "metadata": {},
   "outputs": [
    {
     "name": "stdout",
     "output_type": "stream",
     "text": [
      "Pets with known type that received treatments:  16\n"
     ]
    }
   ],
   "source": [
    "#7) Find out how many pets have received treatment and the type of pet is known\n",
    "\n",
    "sql = \"select count(*) from (select treatment_done from pets where treatment_done > 0 and pet_type not null)\"\n",
    "\n",
    "rows = cursor.execute(sql)\n",
    "\n",
    "#Print the result\n",
    "for row in rows:\n",
    "    #print(row)\n",
    "    print('Pets with known type that received treatments: ', str(row).split(',')[0][1:])"
   ]
  },
  {
   "cell_type": "code",
   "execution_count": 161,
   "metadata": {},
   "outputs": [
    {
     "name": "stdout",
     "output_type": "stream",
     "text": [
      "Pets from east port:  49\n"
     ]
    }
   ],
   "source": [
    "#8) Find how many pets are from the city called \"East Port\"\n",
    "sql = \"select count(*) from (select pets.owner_id, pets.pet_name, persons.city from pets JOIN persons ON pets.owner_id = persons.id where persons.city = 'east port')\"\n",
    "\n",
    "rows = cursor.execute(sql)\n",
    "\n",
    "#Print the result\n",
    "for row in rows:\n",
    "    #print(row)\n",
    "    print('Pets from east port: ', str(row).split(',')[0][1:])"
   ]
  },
  {
   "cell_type": "code",
   "execution_count": 163,
   "metadata": {},
   "outputs": [
    {
     "name": "stdout",
     "output_type": "stream",
     "text": [
      "Pets with treatements from east port:  11\n"
     ]
    }
   ],
   "source": [
    "#9) Find out how many pets are from the city called \"East Port\" and who received a treatment\n",
    "sql = \"select count(*) from (select pets.owner_id, pets.pet_name, persons.city from pets JOIN persons ON pets.owner_id = persons.id where persons.city = 'east port' and pets.treatment_done > 0)\"\n",
    "#FROM pets JOIN persons ON pets.owner_id = persons.id\n",
    "\n",
    "rows = cursor.execute(sql)\n",
    "\n",
    "#Print the result\n",
    "for row in rows:\n",
    "    #print(row)\n",
    "    print('Pets with treatements from east port: ', str(row).split(',')[0][1:])"
   ]
  }
 ],
 "metadata": {
  "kernelspec": {
   "display_name": "Python 3",
   "language": "python",
   "name": "python3"
  },
  "language_info": {
   "codemirror_mode": {
    "name": "ipython",
    "version": 3
   },
   "file_extension": ".py",
   "mimetype": "text/x-python",
   "name": "python",
   "nbconvert_exporter": "python",
   "pygments_lexer": "ipython3",
   "version": "3.7.1"
  }
 },
 "nbformat": 4,
 "nbformat_minor": 2
}
