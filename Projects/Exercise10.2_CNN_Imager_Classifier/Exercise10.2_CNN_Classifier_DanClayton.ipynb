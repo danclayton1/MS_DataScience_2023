{
 "cells": [
  {
   "cell_type": "code",
   "execution_count": 1,
   "metadata": {},
   "outputs": [],
   "source": [
    "#Exercise 10.2 Build your own CCN Image Classifier\n",
    "#DSC-550\n",
    "#Dan Clayton"
   ]
  },
  {
   "cell_type": "code",
   "execution_count": 2,
   "metadata": {},
   "outputs": [],
   "source": [
    "#Import some important libraries\n",
    "from sklearn import preprocessing\n",
    "import numpy as np\n",
    "import cv2\n",
    "from matplotlib import pyplot as plt\n",
    "import tensorflow as tf"
   ]
  },
  {
   "cell_type": "code",
   "execution_count": 3,
   "metadata": {},
   "outputs": [],
   "source": [
    "#1) Load the MNIST data set.\n",
    "from keras.datasets import mnist\n",
    "(X_train, y_train), (X_test, y_test) = mnist.load_data()\n"
   ]
  },
  {
   "cell_type": "code",
   "execution_count": 4,
   "metadata": {},
   "outputs": [
    {
     "name": "stdout",
     "output_type": "stream",
     "text": [
      "5\n"
     ]
    },
    {
     "data": {
      "image/png": "[encoded data removed]",
      "text/plain": [
       "<Figure size 432x288 with 1 Axes>"
      ]
     },
     "metadata": {
      "needs_background": "light"
     },
     "output_type": "display_data"
    },
    {
     "name": "stdout",
     "output_type": "stream",
     "text": [
      "0\n"
     ]
    },
    {
     "data": {
      "image/png": "[encoded data removed]",
      "text/plain": [
       "<Figure size 432x288 with 1 Axes>"
      ]
     },
     "metadata": {
      "needs_background": "light"
     },
     "output_type": "display_data"
    },
    {
     "name": "stdout",
     "output_type": "stream",
     "text": [
      "4\n"
     ]
    },
    {
     "data": {
      "image/png": "[encoded data removed]",
      "text/plain": [
       "<Figure size 432x288 with 1 Axes>"
      ]
     },
     "metadata": {
      "needs_background": "light"
     },
     "output_type": "display_data"
    },
    {
     "name": "stdout",
     "output_type": "stream",
     "text": [
      "1\n"
     ]
    },
    {
     "data": {
      "image/png": "[encoded data removed]",
      "text/plain": [
       "<Figure size 432x288 with 1 Axes>"
      ]
     },
     "metadata": {
      "needs_background": "light"
     },
     "output_type": "display_data"
    },
    {
     "data": {
      "text/plain": [
       "'\\nfor i in range(0,4):\\n    plt.imshow(Y_train[i], cmap=\"gray\"), plt.axis(\"off\")\\n    plt.show()\\n'"
      ]
     },
     "execution_count": 4,
     "metadata": {},
     "output_type": "execute_result"
    }
   ],
   "source": [
    "#2) Display the first five images in the training data set (see section 8.1 in the Machine Learning with Python Cookbook). \n",
    "#Compare these to the first five training labels.\n",
    "\n",
    "for i in range(0,4):\n",
    "    plt.imshow(X_train[i], cmap=\"gray\"), plt.axis(\"off\")\n",
    "    print(y_train[i])\n",
    "    plt.show()\n",
    "\n",
    "\n",
    "\n",
    "'''\n",
    "for i in range(0,4):\n",
    "    plt.imshow(Y_train[i], cmap=\"gray\"), plt.axis(\"off\")\n",
    "    plt.show()\n",
    "'''"
   ]
  },
  {
   "cell_type": "code",
   "execution_count": 5,
   "metadata": {},
   "outputs": [
    {
     "name": "stdout",
     "output_type": "stream",
     "text": [
      "Epoch 1/3\n",
      "1875/1875 [==============================] - 2s 846us/step - loss: 0.2623 - accuracy: 0.9235\n",
      "Epoch 2/3\n",
      "1875/1875 [==============================] - 2s 809us/step - loss: 0.1078 - accuracy: 0.9671\n",
      "Epoch 3/3\n",
      "1875/1875 [==============================] - 1s 792us/step - loss: 0.0723 - accuracy: 0.9768\n",
      "WARNING:tensorflow:From C:\\ProgramData\\Anaconda3\\envs\\fresh\\lib\\site-packages\\tensorflow\\python\\training\\tracking\\tracking.py:111: Model.state_updates (from tensorflow.python.keras.engine.training) is deprecated and will be removed in a future version.\n",
      "Instructions for updating:\n",
      "This property should not be used in TensorFlow 2.0, as updates are applied automatically.\n",
      "WARNING:tensorflow:From C:\\ProgramData\\Anaconda3\\envs\\fresh\\lib\\site-packages\\tensorflow\\python\\training\\tracking\\tracking.py:111: Layer.updates (from tensorflow.python.keras.engine.base_layer) is deprecated and will be removed in a future version.\n",
      "Instructions for updating:\n",
      "This property should not be used in TensorFlow 2.0, as updates are applied automatically.\n",
      "INFO:tensorflow:Assets written to: first_knn\\assets\n"
     ]
    }
   ],
   "source": [
    "#3) Build and train a Keras CNN classifier on the MNIST training set.\n",
    "\n",
    "#Create feature--features already exist (they are the image matrices)\n",
    "\n",
    "#Normalize the features\n",
    "features_train = tf.keras.utils.normalize(X_train, axis=1)\n",
    "features_test = tf.keras.utils.normalize(X_test, axis=1)\n",
    "\n",
    "#Add layers\n",
    "model = tf.keras.models.Sequential()\n",
    "model.add(tf.keras.layers.Flatten(input_shape =(28,28)))\n",
    "model.add(tf.keras.layers.Dense(128, activation='relu'))\n",
    "model.add(tf.keras.layers.Dense(128, activation='relu'))\n",
    "model.add(tf.keras.layers.Dense(10, activation='softmax'))\n",
    "\n",
    "#Compile the model\n",
    "model.compile(optimizer='adam', loss='sparse_categorical_crossentropy', metrics='accuracy')\n",
    "\n",
    "#Train the model\n",
    "model.fit(features_train, y_train, epochs=3)\n",
    "\n",
    "#Save the model\n",
    "model.save('first_knn')"
   ]
  },
  {
   "cell_type": "code",
   "execution_count": 6,
   "metadata": {},
   "outputs": [
    {
     "name": "stdout",
     "output_type": "stream",
     "text": [
      "313/313 [==============================] - 0s 598us/step - loss: 0.0860 - accuracy: 0.9718\n",
      "Model accuracy: 0.9718000292778015\n"
     ]
    }
   ],
   "source": [
    "#4) Report the test accuracy of your model.\n",
    "loss, accuracy = model.evaluate(features_test, y_test)\n",
    "print(f'Model accuracy: {accuracy}')"
   ]
  },
  {
   "cell_type": "code",
   "execution_count": 11,
   "metadata": {},
   "outputs": [
    {
     "data": {
      "text/plain": [
       "array([[ 967,    1,    0,    0,    1,    0,    5,    1,    3,    2],\n",
       "       [   0, 1129,    0,    1,    0,    0,    1,    1,    3,    0],\n",
       "       [   7,   24,  935,    6,    6,    2,    6,   31,   12,    3],\n",
       "       [   0,    7,    2,  963,    1,    5,    0,    9,   13,   10],\n",
       "       [   0,   18,    0,    0,  912,    0,    9,    2,    1,   40],\n",
       "       [   3,   16,    1,   14,    0,  821,   14,    3,   13,    7],\n",
       "       [   6,    5,    0,    1,    5,    1,  936,    0,    4,    0],\n",
       "       [   0,   21,    1,    0,    0,    0,    0,  998,    1,    7],\n",
       "       [   5,   21,    0,    2,    2,    1,    4,    0,  937,    2],\n",
       "       [   2,   11,    0,    3,   10,    2,    1,    6,    9,  965]],\n",
       "      dtype=int64)"
      ]
     },
     "execution_count": 11,
     "metadata": {},
     "output_type": "execute_result"
    }
   ],
   "source": [
    "#5) Display a confusion matrix on the test set classifications.\n",
    "\n",
    "from sklearn import metrics as skm\n",
    "\n",
    "predicts = model.predict(features_test)\n",
    "from numpy import argmax\n",
    "\n",
    "#Calculations to feed to the confusion matrix\n",
    "y_predicted = model.predict(X_test, verbose = 0)\n",
    "y_pred = np.argmax(y_predicted, axis = 1)\n",
    "\n",
    " \n",
    "#Build the actual confusion matrix\n",
    "confus_mat = skm.confusion_matrix(y_test, y_pred)\n",
    "\n",
    "#Display the confusion matrix\n",
    "confus_mat"
   ]
  },
  {
   "cell_type": "code",
   "execution_count": 7,
   "metadata": {},
   "outputs": [],
   "source": [
    "#6) Summarize your results.\n",
    "#The neural network did a great job predicting what the hand-written characters were (> 96& accurate)\n",
    "#While the model could have been trained with more iterations, and perhaps gained a slightly higher accuracy, \n",
    "#this could very possibly have led to overfitting, which would be undesirable in practical application\n",
    "\n",
    "\n"
   ]
  }
 ],
 "metadata": {
  "kernelspec": {
   "display_name": "Python 3 (ipykernel)",
   "language": "python",
   "name": "python3"
  },
  "language_info": {
   "codemirror_mode": {
    "name": "ipython",
    "version": 3
   },
   "file_extension": ".py",
   "mimetype": "text/x-python",
   "name": "python",
   "nbconvert_exporter": "python",
   "pygments_lexer": "ipython3",
   "version": "3.8.13"
  }
 },
 "nbformat": 4,
 "nbformat_minor": 2
}
